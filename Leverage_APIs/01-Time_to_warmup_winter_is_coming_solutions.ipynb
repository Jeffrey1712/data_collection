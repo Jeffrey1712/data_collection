{
 "cells": [
  {
   "cell_type": "markdown",
   "metadata": {
    "colab_type": "text",
    "id": "fSl95NHa4Mi3"
   },
   "source": [
    "# Game of Thrones\n",
    "\n",
    "Are you a fan of the Game of Thrones series? Let's test it. Let's use the API: <a href=\"https://anapioficeandfire.com/\" target=\"_blank\">https://anapioficeandfire.com/</a> to find out more about the series."
   ]
  },
  {
   "cell_type": "markdown",
   "metadata": {
    "colab_type": "text",
    "id": "eQovpyB74PWH"
   },
   "source": [
    "1. Import the following libraries: \n",
    "\n",
    "      * ```requests```\n",
    "      * ```pandas```\n",
    "      * ```json```"
   ]
  },
  {
   "cell_type": "code",
   "execution_count": 38,
   "metadata": {
    "colab": {},
    "colab_type": "code",
    "id": "ynMhSC9p4GsE"
   },
   "outputs": [],
   "source": [
    "import requests\n",
    "import pandas as pd\n",
    "import json"
   ]
  },
  {
   "cell_type": "markdown",
   "metadata": {
    "colab_type": "text",
    "id": "sqtBTZQH4f8X"
   },
   "source": [
    "2. Go to the URL indicated in the description above. Using `requests`, get data on a character in the series. It doesn't matter who the character is."
   ]
  },
  {
   "cell_type": "code",
   "execution_count": 39,
   "metadata": {
    "colab": {
     "base_uri": "https://localhost:8080/",
     "height": 54
    },
    "colab_type": "code",
    "id": "sQRAIy7x4v37",
    "outputId": "312ab2ec-7587-489a-957e-89ad90864c87"
   },
   "outputs": [
    {
     "data": {
      "text/plain": [
       "b'{\"url\":\"https://anapioficeandfire.com/api/characters/45\",\"name\":\"Aegon Targaryen\",\"gender\":\"Male\",\"culture\":\"Valyrian\",\"born\":\"In or between 50 AC and 59 AC\",\"died\":\"\",\"titles\":[\"Prince\"],\"aliases\":[\"\"],\"father\":\"\",\"mother\":\"\",\"spouse\":\"\",\"allegiances\":[\"https://anapioficeandfire.com/api/houses/378\"],\"books\":[\"https://anapioficeandfire.com/api/books/11\"],\"povBooks\":[],\"tvSeries\":[\"\"],\"playedBy\":[\"\"]}'"
      ]
     },
     "execution_count": 39,
     "metadata": {},
     "output_type": "execute_result"
    }
   ],
   "source": [
    "r=requests.get(\"https://anapioficeandfire.com/api/characters/45\")\n",
    "r.content"
   ]
  },
  {
   "cell_type": "markdown",
   "metadata": {
    "colab_type": "text",
    "id": "2S-Rci2j45lQ"
   },
   "source": [
    "3. Extract these data in JSON format:"
   ]
  },
  {
   "cell_type": "code",
   "execution_count": 40,
   "metadata": {
    "colab": {
     "base_uri": "https://localhost:8080/",
     "height": 369
    },
    "colab_type": "code",
    "id": "zCelPE_L490H",
    "outputId": "3be53a86-bd9b-445c-e6ef-cf09def6e8f0"
   },
   "outputs": [
    {
     "data": {
      "text/plain": [
       "{'url': 'https://anapioficeandfire.com/api/characters/45',\n",
       " 'name': 'Aegon Targaryen',\n",
       " 'gender': 'Male',\n",
       " 'culture': 'Valyrian',\n",
       " 'born': 'In or between 50 AC and 59 AC',\n",
       " 'died': '',\n",
       " 'titles': ['Prince'],\n",
       " 'aliases': [''],\n",
       " 'father': '',\n",
       " 'mother': '',\n",
       " 'spouse': '',\n",
       " 'allegiances': ['https://anapioficeandfire.com/api/houses/378'],\n",
       " 'books': ['https://anapioficeandfire.com/api/books/11'],\n",
       " 'povBooks': [],\n",
       " 'tvSeries': [''],\n",
       " 'playedBy': ['']}"
      ]
     },
     "execution_count": 40,
     "metadata": {},
     "output_type": "execute_result"
    }
   ],
   "source": [
    "r.json()"
   ]
  },
  {
   "cell_type": "markdown",
   "metadata": {
    "colab_type": "text",
    "id": "PucGBhae4_NN"
   },
   "source": [
    "4. Now extract the JSON keys you have obtained and create a DataFrame that will have the JSON keys you extracted as a column.\n",
    "\n",
    "**Hint**: we can use: `r.json().keys()`."
   ]
  },
  {
   "cell_type": "code",
   "execution_count": 41,
   "metadata": {
    "colab": {
     "base_uri": "https://localhost:8080/",
     "height": 68
    },
    "colab_type": "code",
    "id": "ySmWW20P4GuQ",
    "outputId": "798c98c7-7e5c-40eb-b732-e66210644ed6"
   },
   "outputs": [
    {
     "data": {
      "text/html": [
       "<div>\n",
       "<style scoped>\n",
       "    .dataframe tbody tr th:only-of-type {\n",
       "        vertical-align: middle;\n",
       "    }\n",
       "\n",
       "    .dataframe tbody tr th {\n",
       "        vertical-align: top;\n",
       "    }\n",
       "\n",
       "    .dataframe thead th {\n",
       "        text-align: right;\n",
       "    }\n",
       "</style>\n",
       "<table border=\"1\" class=\"dataframe\">\n",
       "  <thead>\n",
       "    <tr style=\"text-align: right;\">\n",
       "      <th></th>\n",
       "      <th>url</th>\n",
       "      <th>name</th>\n",
       "      <th>gender</th>\n",
       "      <th>culture</th>\n",
       "      <th>born</th>\n",
       "      <th>died</th>\n",
       "      <th>titles</th>\n",
       "      <th>aliases</th>\n",
       "      <th>father</th>\n",
       "      <th>mother</th>\n",
       "      <th>spouse</th>\n",
       "      <th>allegiances</th>\n",
       "      <th>books</th>\n",
       "      <th>povBooks</th>\n",
       "      <th>tvSeries</th>\n",
       "      <th>playedBy</th>\n",
       "    </tr>\n",
       "  </thead>\n",
       "  <tbody>\n",
       "  </tbody>\n",
       "</table>\n",
       "</div>"
      ],
      "text/plain": [
       "Empty DataFrame\n",
       "Columns: [url, name, gender, culture, born, died, titles, aliases, father, mother, spouse, allegiances, books, povBooks, tvSeries, playedBy]\n",
       "Index: []"
      ]
     },
     "execution_count": 41,
     "metadata": {},
     "output_type": "execute_result"
    }
   ],
   "source": [
    "r.json().keys()\n",
    "data = pd.DataFrame(columns = r.json().keys())\n",
    "data.head()"
   ]
  },
  {
   "cell_type": "markdown",
   "metadata": {
    "colab_type": "text",
    "id": "vPJWhqcB7bbs"
   },
   "source": [
    "5. Create a loop to extract data from the firsts 150 characters of the series and add them to your DataFrame."
   ]
  },
  {
   "cell_type": "code",
   "execution_count": 44,
   "metadata": {
    "colab": {},
    "colab_type": "code",
    "id": "U4cafYYW4Guk",
    "tags": []
   },
   "outputs": [
    {
     "name": "stdout",
     "output_type": "stream",
     "text": [
      "1 personnage done\n",
      "2 personnage done\n",
      "3 personnage done\n",
      "4 personnage done\n"
     ]
    }
   ],
   "source": [
    "# First, we iterate over the firsts 150 characters\n",
    "for i in range(1,5):\n",
    "    # Make a request\n",
    "    r = requests.get(\"https://anapioficeandfire.com/api/characters/{}\".format(i))\n",
    "    # Store it in our DataFrame\n",
    "    data = data._append(r.json(), ignore_index=True)\n",
    "    print(\"{} personnage done\".format(i))"
   ]
  },
  {
   "cell_type": "code",
   "execution_count": 45,
   "metadata": {
    "colab": {
     "base_uri": "https://localhost:8080/",
     "height": 915
    },
    "colab_type": "code",
    "id": "e1FwbCcqn08r",
    "outputId": "a9e5eb52-2b5f-48b4-ccbd-763e08d33b43"
   },
   "outputs": [
    {
     "data": {
      "text/html": [
       "<div>\n",
       "<style scoped>\n",
       "    .dataframe tbody tr th:only-of-type {\n",
       "        vertical-align: middle;\n",
       "    }\n",
       "\n",
       "    .dataframe tbody tr th {\n",
       "        vertical-align: top;\n",
       "    }\n",
       "\n",
       "    .dataframe thead th {\n",
       "        text-align: right;\n",
       "    }\n",
       "</style>\n",
       "<table border=\"1\" class=\"dataframe\">\n",
       "  <thead>\n",
       "    <tr style=\"text-align: right;\">\n",
       "      <th></th>\n",
       "      <th>url</th>\n",
       "      <th>name</th>\n",
       "      <th>gender</th>\n",
       "      <th>culture</th>\n",
       "      <th>born</th>\n",
       "      <th>died</th>\n",
       "      <th>titles</th>\n",
       "      <th>aliases</th>\n",
       "      <th>father</th>\n",
       "      <th>mother</th>\n",
       "      <th>spouse</th>\n",
       "      <th>allegiances</th>\n",
       "      <th>books</th>\n",
       "      <th>povBooks</th>\n",
       "      <th>tvSeries</th>\n",
       "      <th>playedBy</th>\n",
       "    </tr>\n",
       "  </thead>\n",
       "  <tbody>\n",
       "    <tr>\n",
       "      <th>0</th>\n",
       "      <td>https://anapioficeandfire.com/api/characters/1</td>\n",
       "      <td></td>\n",
       "      <td>Female</td>\n",
       "      <td>Braavosi</td>\n",
       "      <td></td>\n",
       "      <td></td>\n",
       "      <td>[]</td>\n",
       "      <td>[The Daughter of the Dusk]</td>\n",
       "      <td></td>\n",
       "      <td></td>\n",
       "      <td></td>\n",
       "      <td>[]</td>\n",
       "      <td>[https://anapioficeandfire.com/api/books/5]</td>\n",
       "      <td>[]</td>\n",
       "      <td>[]</td>\n",
       "      <td>[]</td>\n",
       "    </tr>\n",
       "    <tr>\n",
       "      <th>1</th>\n",
       "      <td>https://anapioficeandfire.com/api/characters/2</td>\n",
       "      <td>Walder</td>\n",
       "      <td>Male</td>\n",
       "      <td></td>\n",
       "      <td></td>\n",
       "      <td></td>\n",
       "      <td>[]</td>\n",
       "      <td>[Hodor]</td>\n",
       "      <td></td>\n",
       "      <td></td>\n",
       "      <td></td>\n",
       "      <td>[https://anapioficeandfire.com/api/houses/362]</td>\n",
       "      <td>[https://anapioficeandfire.com/api/books/1, ht...</td>\n",
       "      <td>[]</td>\n",
       "      <td>[Season 1, Season 2, Season 3, Season 4, Seaso...</td>\n",
       "      <td>[Kristian Nairn]</td>\n",
       "    </tr>\n",
       "    <tr>\n",
       "      <th>2</th>\n",
       "      <td>https://anapioficeandfire.com/api/characters/3</td>\n",
       "      <td></td>\n",
       "      <td>Male</td>\n",
       "      <td></td>\n",
       "      <td></td>\n",
       "      <td></td>\n",
       "      <td>[]</td>\n",
       "      <td>[Lamprey]</td>\n",
       "      <td></td>\n",
       "      <td></td>\n",
       "      <td></td>\n",
       "      <td>[https://anapioficeandfire.com/api/houses/15]</td>\n",
       "      <td>[https://anapioficeandfire.com/api/books/3]</td>\n",
       "      <td>[]</td>\n",
       "      <td>[]</td>\n",
       "      <td>[]</td>\n",
       "    </tr>\n",
       "    <tr>\n",
       "      <th>3</th>\n",
       "      <td>https://anapioficeandfire.com/api/characters/4</td>\n",
       "      <td></td>\n",
       "      <td>Female</td>\n",
       "      <td>Braavosi</td>\n",
       "      <td></td>\n",
       "      <td></td>\n",
       "      <td>[]</td>\n",
       "      <td>[The Merling Queen]</td>\n",
       "      <td></td>\n",
       "      <td></td>\n",
       "      <td></td>\n",
       "      <td>[]</td>\n",
       "      <td>[https://anapioficeandfire.com/api/books/5, ht...</td>\n",
       "      <td>[]</td>\n",
       "      <td>[]</td>\n",
       "      <td>[]</td>\n",
       "    </tr>\n",
       "  </tbody>\n",
       "</table>\n",
       "</div>"
      ],
      "text/plain": [
       "                                              url    name  gender   culture  \\\n",
       "0  https://anapioficeandfire.com/api/characters/1          Female  Braavosi   \n",
       "1  https://anapioficeandfire.com/api/characters/2  Walder    Male             \n",
       "2  https://anapioficeandfire.com/api/characters/3            Male             \n",
       "3  https://anapioficeandfire.com/api/characters/4          Female  Braavosi   \n",
       "\n",
       "  born died titles                     aliases father mother spouse  \\\n",
       "0               []  [The Daughter of the Dusk]                        \n",
       "1               []                     [Hodor]                        \n",
       "2               []                   [Lamprey]                        \n",
       "3               []         [The Merling Queen]                        \n",
       "\n",
       "                                      allegiances  \\\n",
       "0                                              []   \n",
       "1  [https://anapioficeandfire.com/api/houses/362]   \n",
       "2   [https://anapioficeandfire.com/api/houses/15]   \n",
       "3                                              []   \n",
       "\n",
       "                                               books povBooks  \\\n",
       "0        [https://anapioficeandfire.com/api/books/5]       []   \n",
       "1  [https://anapioficeandfire.com/api/books/1, ht...       []   \n",
       "2        [https://anapioficeandfire.com/api/books/3]       []   \n",
       "3  [https://anapioficeandfire.com/api/books/5, ht...       []   \n",
       "\n",
       "                                            tvSeries          playedBy  \n",
       "0                                                 []                []  \n",
       "1  [Season 1, Season 2, Season 3, Season 4, Seaso...  [Kristian Nairn]  \n",
       "2                                                 []                []  \n",
       "3                                                 []                []  "
      ]
     },
     "execution_count": 45,
     "metadata": {},
     "output_type": "execute_result"
    }
   ],
   "source": [
    "data.head()"
   ]
  }
 ],
 "metadata": {
  "colab": {
   "collapsed_sections": [],
   "name": "Game Of Thrones - Exercice SOLUTIONS.ipynb",
   "provenance": []
  },
  "kernelspec": {
   "display_name": "Python 3",
   "language": "python",
   "name": "python3"
  },
  "language_info": {
   "codemirror_mode": {
    "name": "ipython",
    "version": 3
   },
   "file_extension": ".py",
   "mimetype": "text/x-python",
   "name": "python",
   "nbconvert_exporter": "python",
   "pygments_lexer": "ipython3",
   "version": "3.11.2"
  }
 },
 "nbformat": 4,
 "nbformat_minor": 4
}

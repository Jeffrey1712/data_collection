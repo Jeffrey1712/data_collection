{
 "cells": [
  {
   "cell_type": "markdown",
   "metadata": {},
   "source": [
    "# Asynchronous programming for faster speed!\n",
    "\n",
    "Imagine you are working in an assembly line where your job is to stick a logo on a product, this task takes very little time like 1 minute, but the task happening right before you is building the product which takes 1 hour. You could be sticking logos on 60 products and hour, but you have to wait for each product to be finished first. It would be great if you could build several products at the same time so you could be as productive as you could right?!\n",
    "\n",
    "Well, this exactly what Asynchronous tasks will help you with!\n"
   ]
  },
  {
   "cell_type": "markdown",
   "metadata": {},
   "source": [
    "## What you are going to learn in this course 🧐🧐\n",
    "\n",
    "This course will teach you how to make asynchronous code using the `asyncio` library, which is one of the most popular out there! Let's give the outline:\n",
    "\n",
    "* What is asynchronous programming?\n",
    "* Why do we need asynchronous programming?"
   ]
  },
  {
   "cell_type": "markdown",
   "metadata": {},
   "source": [
    "## What is asynchronous programming?\n",
    "\n",
    "Asynchronous programming is a type of parallel programming in which a unit of work is allowed to run separately from the primary application thread. When the work is complete, it notifies the main thread about completion or failure of the worker thread. There are numerous benefits to using it, such as improved application performance and enhanced responsiveness.\n",
    "\n",
    "What this sentence means is that the asynchronous piece of code will run, but it will not block the rest of the code from running, the various tasks will be able to run simultaneously (we also say in parallel).\n",
    "\n",
    "This great when some tasks take longer than others, and when different parts of your code can be executed independently from each other without failing!"
   ]
  },
  {
   "cell_type": "markdown",
   "metadata": {},
   "source": [
    "## Why do we need asynchronous programming?\n",
    "\n",
    "As you will start coding more and more and get experience in the field of data science, you will learn to remember that data science stands at the crossroad of statistics and computer science. And who says computer science says, well computers!\n",
    "\n",
    "We'll get back to this in future lectures but it is important to have in mind that when dealing with computers, we are using physical elements to make calculations for us and transmit data to each other etc and these operations take time. Let's take a look at different execution times per operations for various elements of a computer:\n",
    "\n",
    "> Remember that there is a \"computer\" in \"computer science\".\n",
    "— Peter Norvig\n",
    "\n",
    "- CPU (Central Processing Unit) ≈ 1 ns\n",
    "- Memory ≈ 100 ns\n",
    "- Disk ≈ 20 μs\n",
    "- Network ≈ 150 ms\n",
    "\n",
    "Now let's imagine we are trying to make many API calls (wild, I know) in a loop over a list of urls. What will happen is the following:\n",
    "\n",
    "1. Enter the loop code (CPU)\n",
    "2. Get data to write the query from the url list (Memory)\n",
    "3. Send query (Network)\n",
    "4. Wait for query response (Network)\n",
    "5. Save response (Memory)\n",
    "6. Go to next step of the loop (CPU)\n",
    "\n",
    "The amount of time we spend waiting for to receive the API's response is much longer than any of the other operations (we could be sticking lots of logos but we are waiting for the products to be ready), causing the whole process to be super slow.\n",
    "\n",
    "Now if we make the part of the code that deals with the API asychronous, then we do not have to wait for the API to respond to start sending new queries, causing the total execution time of the loop to be much quicker! This works because most APIs are running on machines that can process several calls in parallel!"
   ]
  },
  {
   "cell_type": "markdown",
   "metadata": {},
   "source": [
    "## Asynchronous programming\n",
    "\n",
    "Let's move on to practice! We will start by giving generic examples to explain the basics of asynchronoujs programming, then we will give more concrete examples of how it works when using loops in which we expect down time periods, then a quick demonstration with an actual API."
   ]
  },
  {
   "cell_type": "markdown",
   "metadata": {},
   "source": [
    "### Synchronous program\n",
    "\n",
    "Notebooks are very useful for trying things and exploring data, however, when writing programs to call API and fill databases etc.. we rarely use them. Instead data scientists, and more generally developpers write scripts (.py files) that contain python code all in one block!\n",
    "\n",
    "[This first program](src/async1.py) only uses synchronous processes and therefore every task happens one after the other like we are used to."
   ]
  },
  {
   "cell_type": "code",
   "execution_count": 1,
   "metadata": {},
   "outputs": [
    {
     "name": "stdout",
     "output_type": "stream",
     "text": [
      "Hello!\n",
      "Goodbye!\n"
     ]
    }
   ],
   "source": [
    "!python src/async1.py # this will execute the python file async1.py in the src folder!"
   ]
  },
  {
   "cell_type": "markdown",
   "metadata": {},
   "source": [
    "### Our first asynchronous program\n",
    "\n",
    "Let's introduce the `asyncio` library, which let's python run asynchronous programs! The program can be found [here](src/async2.py)."
   ]
  },
  {
   "cell_type": "code",
   "execution_count": 2,
   "metadata": {},
   "outputs": [
    {
     "name": "stdout",
     "output_type": "stream",
     "text": [
      "/Users/nicollemathieu/SandBOX/jedha_teacher/6-data_collection/OPTIONAL_Asynchronous_programming/src/async2.py:6: RuntimeWarning: coroutine 'main' was never awaited\n",
      "  main()\n",
      "RuntimeWarning: Enable tracemalloc to get the object allocation traceback\n",
      "Goodbye!\n"
     ]
    }
   ],
   "source": [
    "!python src/async2.py"
   ]
  },
  {
   "cell_type": "markdown",
   "metadata": {},
   "source": [
    "Here we see that the final statement of our program was executed, however the `main()` function was never executed, and the error states the reason for that is we never awaited for this program to run!\n",
    "\n",
    "Indeed, when defining an asynchronous program with the keyword `async` it turns the function `main()` into what we call a **coroutine** that works a little bit differently than regular functions. If we want this coroutine to actually run we need to use the `asyncio.run` method, like we do in [this program](src/async3.py)."
   ]
  },
  {
   "cell_type": "code",
   "execution_count": 3,
   "metadata": {},
   "outputs": [
    {
     "name": "stdout",
     "output_type": "stream",
     "text": [
      "Hello!\n",
      "Goodbye!\n"
     ]
    }
   ],
   "source": [
    "!python src/async3.py"
   ]
  },
  {
   "cell_type": "markdown",
   "metadata": {},
   "source": [
    "Now everything works fine! But we have'nt done anything more than running the two processes one after the other, which is not the goal of asynchronous programming. What we want is to be able to run various tasks simultaneously while others are inactive!\n",
    "\n",
    "Using the `asyncio.run` method is actually creating what we call and **event loop** which is sort of a timeline where the system in which you are running your code will decide which program to actively run depending on what program can be immediatly active and which one is waiting on some other thing to finish.\n"
   ]
  },
  {
   "cell_type": "markdown",
   "metadata": {},
   "source": [
    "### Waiting for other tasks to finish\n",
    "\n",
    "In [this program](src/async4.py), we will show you how the event loop works by creating asynchronous **tasks** that we wish to run concurrently. Notice that we are using the keyword **await** which executes a coroutine inside an asynchronous function, this keyword cannot be used outside of such a function."
   ]
  },
  {
   "cell_type": "code",
   "execution_count": 4,
   "metadata": {},
   "outputs": [
    {
     "name": "stdout",
     "output_type": "stream",
     "text": [
      "OK\n",
      "Goodbye!\n",
      "Hello!\n"
     ]
    }
   ],
   "source": [
    "!python src/async4.py"
   ]
  },
  {
   "cell_type": "markdown",
   "metadata": {},
   "source": [
    "Here the function `bye()` starts by waiting for one second, which means that for one second the processor is doing nothing! Ideally we would like to take advantage of that down time to continue running the rest of the `main()` function! Which is the point of asynchronous programming!"
   ]
  },
  {
   "cell_type": "markdown",
   "metadata": {},
   "source": [
    "### Taking advantage of other tasks' downtime\n",
    "\n",
    "In order to take advantage of the downtime of some processes to run others we need to create a task using `asyncio.create_task` (how very original right!?), which will indicate python that a certain piece of program may take some time doing nothing because it is waiting for, let's say, an API to return some results, and that in the meantime it can move on with the execution of other processes.\n",
    "\n",
    "[This program](src/async5.py) will show you how we can do this."
   ]
  },
  {
   "cell_type": "code",
   "execution_count": 5,
   "metadata": {},
   "outputs": [
    {
     "name": "stdout",
     "output_type": "stream",
     "text": [
      "Hello!\n",
      "OK\n"
     ]
    }
   ],
   "source": [
    "!python src/async5.py"
   ]
  },
  {
   "cell_type": "markdown",
   "metadata": {},
   "source": [
    "So here, we execute `main()` without having to wait for `bye()` to finish, which means that `bye()` will run whenever `main()` stops trusting the processor. In this case `bye()` is able to print `OK` but while it's waiting for 1 second, `main()` is actually done so the execution stops before `bye()` can finish.\n",
    "\n",
    "In the [following example](src/async6.py) we will show you how the two different asynchronous programs can alternate waiting for each other."
   ]
  },
  {
   "cell_type": "code",
   "execution_count": 6,
   "metadata": {},
   "outputs": [
    {
     "name": "stdout",
     "output_type": "stream",
     "text": [
      "Hello!\n",
      "OK\n",
      "Goodbye!\n"
     ]
    }
   ],
   "source": [
    "!python src/async6.py"
   ]
  },
  {
   "cell_type": "markdown",
   "metadata": {},
   "source": [
    "Now because we force `main()` to wait for 2 seconds, it gives enough time for `bye()` to actually keep on running and finish!\n",
    "\n",
    "To summarize, the `await` keyword is essential because it tells python when the execution may move from a process to the other process."
   ]
  },
  {
   "cell_type": "markdown",
   "metadata": {},
   "source": [
    "### Making asynchronous loops and saving results\n",
    "\n",
    "If you are trying to run many different tasks in a loop and want more tasks to get started as other ones are waiting and get all the results at the end you may use `asyncio.gather` which will return and aggregate list of all the results given by the asynchronous processes!\n",
    "\n",
    "Let's take a look at [this example](src/async7.py) for an application demo."
   ]
  },
  {
   "cell_type": "code",
   "execution_count": 7,
   "metadata": {},
   "outputs": [
    {
     "name": "stdout",
     "output_type": "stream",
     "text": [
      "0.00011706352233886719\n"
     ]
    }
   ],
   "source": [
    "import asyncio\n",
    "from src.async7 import main\n",
    "import time\n",
    "import src.config # the configuration file so the logs from our asynchronous code be displayed\n",
    "loop = asyncio.get_event_loop()\n",
    "\n",
    "start = time.time()\n",
    "task = loop.create_task(main())\n",
    "end = time.time()\n",
    "print(end - start)"
   ]
  },
  {
   "cell_type": "markdown",
   "metadata": {},
   "source": [
    "In this example we simulate 100 API calls that should take 2 seconds each. If we had executed this synchronously it would have taken at least 200 seconds to run. Using asynchronous programming the process only took a little more than 2 seconds because all the tasks could be executed simultaneously!\n",
    "\n",
    "This will be extremely useful when querying APIs to get massive amounts of data!"
   ]
  },
  {
   "cell_type": "markdown",
   "metadata": {},
   "source": [
    "### Applied example\n",
    "\n",
    "This [last example](src/async8.py) will give you an applied example of asynchronous API calls on the teleport API.\n",
    "We'll have to introduce a new library to make the HTTP requets asynchronous as well (so they work a little bit like `asyncio.sleep` commands)\n",
    "\n",
    "This library that lets you make asynchronous HTTP requests is called `tornado` and we will use its `AsyncHTTPClient` method. Find more documentation on this [here](https://www.tornadoweb.org/en/stable/httpclient.html#)."
   ]
  },
  {
   "cell_type": "code",
   "execution_count": null,
   "metadata": {},
   "outputs": [
    {
     "name": "stdout",
     "output_type": "stream",
     "text": [
      "0.0003120899200439453\n"
     ]
    },
    {
     "name": "stderr",
     "output_type": "stream",
     "text": [
      "[2024-02-22 12:34:45 CET]\tINFO\tStarting query...\t(src.async8)\n"
     ]
    },
    {
     "name": "stdout",
     "output_type": "stream",
     "text": [
      "https://api.openaq.org/v2/countries/1\n",
      "https://api.openaq.org/v2/countries/2\n",
      "https://api.openaq.org/v2/countries/3\n",
      "https://api.openaq.org/v2/countries/4\n",
      "https://api.openaq.org/v2/countries/5\n",
      "https://api.openaq.org/v2/countries/6\n",
      "https://api.openaq.org/v2/countries/7\n",
      "https://api.openaq.org/v2/countries/8\n",
      "https://api.openaq.org/v2/countries/9\n",
      "https://api.openaq.org/v2/countries/10\n",
      "https://api.openaq.org/v2/countries/11\n",
      "https://api.openaq.org/v2/countries/12\n",
      "https://api.openaq.org/v2/countries/13\n",
      "https://api.openaq.org/v2/countries/14\n",
      "https://api.openaq.org/v2/countries/15\n",
      "https://api.openaq.org/v2/countries/16\n",
      "https://api.openaq.org/v2/countries/17\n",
      "https://api.openaq.org/v2/countries/18\n",
      "https://api.openaq.org/v2/countries/19\n",
      "https://api.openaq.org/v2/countries/20\n",
      "https://api.openaq.org/v2/countries/21\n",
      "https://api.openaq.org/v2/countries/22\n",
      "https://api.openaq.org/v2/countries/23\n",
      "https://api.openaq.org/v2/countries/24\n",
      "https://api.openaq.org/v2/countries/25\n",
      "https://api.openaq.org/v2/countries/26\n",
      "https://api.openaq.org/v2/countries/27\n",
      "https://api.openaq.org/v2/countries/28\n",
      "https://api.openaq.org/v2/countries/29\n",
      "https://api.openaq.org/v2/countries/30\n",
      "https://api.openaq.org/v2/countries/31\n",
      "https://api.openaq.org/v2/countries/32\n",
      "https://api.openaq.org/v2/countries/33\n",
      "https://api.openaq.org/v2/countries/34\n",
      "https://api.openaq.org/v2/countries/35\n",
      "https://api.openaq.org/v2/countries/36\n",
      "https://api.openaq.org/v2/countries/37\n",
      "https://api.openaq.org/v2/countries/38\n",
      "https://api.openaq.org/v2/countries/39\n",
      "https://api.openaq.org/v2/countries/40\n",
      "https://api.openaq.org/v2/countries/41\n",
      "https://api.openaq.org/v2/countries/42\n",
      "https://api.openaq.org/v2/countries/43\n",
      "https://api.openaq.org/v2/countries/44\n",
      "https://api.openaq.org/v2/countries/45\n",
      "https://api.openaq.org/v2/countries/46\n",
      "https://api.openaq.org/v2/countries/47\n",
      "https://api.openaq.org/v2/countries/48\n",
      "https://api.openaq.org/v2/countries/49\n",
      "https://api.openaq.org/v2/countries/50\n",
      "https://api.openaq.org/v2/countries/51\n",
      "https://api.openaq.org/v2/countries/52\n",
      "https://api.openaq.org/v2/countries/53\n",
      "https://api.openaq.org/v2/countries/54\n",
      "https://api.openaq.org/v2/countries/55\n",
      "https://api.openaq.org/v2/countries/56\n",
      "https://api.openaq.org/v2/countries/57\n",
      "https://api.openaq.org/v2/countries/58\n",
      "https://api.openaq.org/v2/countries/59\n",
      "https://api.openaq.org/v2/countries/60\n",
      "https://api.openaq.org/v2/countries/61\n",
      "https://api.openaq.org/v2/countries/62\n",
      "https://api.openaq.org/v2/countries/63\n",
      "https://api.openaq.org/v2/countries/64\n",
      "https://api.openaq.org/v2/countries/65\n",
      "https://api.openaq.org/v2/countries/66\n",
      "https://api.openaq.org/v2/countries/67\n",
      "https://api.openaq.org/v2/countries/68\n",
      "https://api.openaq.org/v2/countries/69\n",
      "https://api.openaq.org/v2/countries/70\n",
      "https://api.openaq.org/v2/countries/71\n",
      "https://api.openaq.org/v2/countries/72\n",
      "https://api.openaq.org/v2/countries/73\n",
      "https://api.openaq.org/v2/countries/74\n",
      "https://api.openaq.org/v2/countries/75\n",
      "https://api.openaq.org/v2/countries/76\n",
      "https://api.openaq.org/v2/countries/77\n",
      "https://api.openaq.org/v2/countries/78\n",
      "https://api.openaq.org/v2/countries/79\n",
      "https://api.openaq.org/v2/countries/80\n",
      "https://api.openaq.org/v2/countries/81\n",
      "https://api.openaq.org/v2/countries/82\n",
      "https://api.openaq.org/v2/countries/83\n",
      "https://api.openaq.org/v2/countries/84\n",
      "https://api.openaq.org/v2/countries/85\n",
      "https://api.openaq.org/v2/countries/86\n",
      "https://api.openaq.org/v2/countries/87\n",
      "https://api.openaq.org/v2/countries/88\n",
      "https://api.openaq.org/v2/countries/89\n",
      "https://api.openaq.org/v2/countries/90\n",
      "https://api.openaq.org/v2/countries/91\n",
      "https://api.openaq.org/v2/countries/92\n",
      "https://api.openaq.org/v2/countries/93\n",
      "https://api.openaq.org/v2/countries/94\n",
      "https://api.openaq.org/v2/countries/95\n",
      "https://api.openaq.org/v2/countries/96\n",
      "https://api.openaq.org/v2/countries/97\n",
      "https://api.openaq.org/v2/countries/98\n",
      "https://api.openaq.org/v2/countries/99\n"
     ]
    },
    {
     "name": "stderr",
     "output_type": "stream",
     "text": [
      "[2024-02-22 12:34:55 CET]\tINFO\tThe process took 9.454345941543579 seconds\t(src.async8)\n"
     ]
    }
   ],
   "source": [
    "import asyncio\n",
    "from src.async8 import search\n",
    "import time\n",
    "import src.config # the configuration file so the logs from our asynchronous code be displayed\n",
    "loop = asyncio.get_event_loop()\n",
    "\n",
    "list_number = list(range(1,100))\n",
    "start = time.time()\n",
    "task = loop.create_task(search(list_number))\n",
    "end = time.time()\n",
    "print(end - start)\n"
   ]
  },
  {
   "cell_type": "code",
   "execution_count": 11,
   "metadata": {},
   "outputs": [
    {
     "data": {
      "text/plain": [
       "[{'meta': {'name': 'openaq-api',\n",
       "   'license': '',\n",
       "   'website': '/',\n",
       "   'page': 1,\n",
       "   'limit': 100,\n",
       "   'found': 1},\n",
       "  'results': [{'code': 'NO',\n",
       "    'name': 'Norway',\n",
       "    'locations': 1753,\n",
       "    'firstUpdated': '2016-12-02 10:00:00+00',\n",
       "    'lastUpdated': '2024-02-21 20:29:25+00',\n",
       "    'parameters': ['bc',\n",
       "     'co',\n",
       "     'co2',\n",
       "     'humidity',\n",
       "     'no',\n",
       "     'no2',\n",
       "     'o3',\n",
       "     'pm1',\n",
       "     'pm10',\n",
       "     'pm25',\n",
       "     'pressure',\n",
       "     'relativehumidity',\n",
       "     'so2',\n",
       "     'temperature',\n",
       "     'um003',\n",
       "     'um005',\n",
       "     'um010',\n",
       "     'um025',\n",
       "     'um050',\n",
       "     'um100',\n",
       "     'voc'],\n",
       "    'count': 844764746,\n",
       "    'cities': 28,\n",
       "    'sources': 4}]},\n",
       " {'meta': {'name': 'openaq-api',\n",
       "   'license': '',\n",
       "   'website': '/',\n",
       "   'page': 1,\n",
       "   'limit': 100,\n",
       "   'found': 1},\n",
       "  'results': [{'code': 'FR',\n",
       "    'name': 'France',\n",
       "    'locations': 817,\n",
       "    'firstUpdated': '2016-11-17 23:00:00+00',\n",
       "    'lastUpdated': '2024-02-21 20:29:22+00',\n",
       "    'parameters': ['co',\n",
       "     'humidity',\n",
       "     'no',\n",
       "     'no2',\n",
       "     'o3',\n",
       "     'pm1',\n",
       "     'pm10',\n",
       "     'pm25',\n",
       "     'pressure',\n",
       "     'so2',\n",
       "     'temperature',\n",
       "     'um003',\n",
       "     'um005',\n",
       "     'um010',\n",
       "     'um025',\n",
       "     'um050',\n",
       "     'um100',\n",
       "     'voc'],\n",
       "    'count': 115596266,\n",
       "    'cities': 66,\n",
       "    'sources': 8}]},\n",
       " {'meta': {'name': 'openaq-api',\n",
       "   'license': '',\n",
       "   'website': '/',\n",
       "   'page': 1,\n",
       "   'limit': 100,\n",
       "   'found': 0},\n",
       "  'results': []},\n",
       " {'meta': {'name': 'openaq-api',\n",
       "   'license': '',\n",
       "   'website': '/',\n",
       "   'page': 1,\n",
       "   'limit': 100,\n",
       "   'found': 1},\n",
       "  'results': [{'code': '',\n",
       "    'name': 'N. Cyprus',\n",
       "    'locations': 1,\n",
       "    'firstUpdated': '2021-03-19 11:34:24+00',\n",
       "    'lastUpdated': '2022-10-21 08:00:52+00',\n",
       "    'parameters': ['pm1', 'pm10', 'pm25', 'um010', 'um025', 'um100'],\n",
       "    'count': 393966,\n",
       "    'cities': 0,\n",
       "    'sources': 1}]},\n",
       " {'meta': {'name': 'openaq-api',\n",
       "   'license': '',\n",
       "   'website': '/',\n",
       "   'page': 1,\n",
       "   'limit': 100,\n",
       "   'found': 1},\n",
       "  'results': [{'code': 'AQ',\n",
       "    'name': 'Antarctica',\n",
       "    'locations': 2,\n",
       "    'firstUpdated': '2018-11-30 11:00:00+00',\n",
       "    'lastUpdated': '2021-02-04 14:00:00+00',\n",
       "    'parameters': ['co', 'no2', 'o3', 'pm10', 'pm25', 'so2'],\n",
       "    'count': 9180,\n",
       "    'cities': 0,\n",
       "    'sources': 2}]},\n",
       " {'meta': {'name': 'openaq-api',\n",
       "   'license': '',\n",
       "   'website': '/',\n",
       "   'page': 1,\n",
       "   'limit': 100,\n",
       "   'found': 0},\n",
       "  'results': []},\n",
       " {'meta': {'name': 'openaq-api',\n",
       "   'license': '',\n",
       "   'website': '/',\n",
       "   'page': 1,\n",
       "   'limit': 100,\n",
       "   'found': 1},\n",
       "  'results': [{'code': 'FJ',\n",
       "    'name': 'Fiji',\n",
       "    'locations': 4,\n",
       "    'firstUpdated': '2021-01-08 23:15:31+00',\n",
       "    'lastUpdated': '2024-01-31 03:16:42+00',\n",
       "    'parameters': ['humidity',\n",
       "     'pm1',\n",
       "     'pm10',\n",
       "     'pm25',\n",
       "     'pressure',\n",
       "     'temperature',\n",
       "     'um003',\n",
       "     'um005',\n",
       "     'um010',\n",
       "     'um025',\n",
       "     'um050',\n",
       "     'um100',\n",
       "     'voc'],\n",
       "    'count': 827033,\n",
       "    'cities': 0,\n",
       "    'sources': 1}]},\n",
       " {'meta': {'name': 'openaq-api',\n",
       "   'license': '',\n",
       "   'website': '/',\n",
       "   'page': 1,\n",
       "   'limit': 100,\n",
       "   'found': 1},\n",
       "  'results': [{'code': 'TZ',\n",
       "    'name': 'Tanzania',\n",
       "    'locations': 13,\n",
       "    'firstUpdated': '2021-01-06 19:12:27+00',\n",
       "    'lastUpdated': '2024-02-21 09:20:33+00',\n",
       "    'parameters': ['humidity',\n",
       "     'pm1',\n",
       "     'pm10',\n",
       "     'pm25',\n",
       "     'pressure',\n",
       "     'temperature',\n",
       "     'um003',\n",
       "     'um005',\n",
       "     'um010',\n",
       "     'um025',\n",
       "     'um050',\n",
       "     'um100'],\n",
       "    'count': 5251992,\n",
       "    'cities': 0,\n",
       "    'sources': 1}]},\n",
       " {'meta': {'name': 'openaq-api',\n",
       "   'license': '',\n",
       "   'website': '/',\n",
       "   'page': 1,\n",
       "   'limit': 100,\n",
       "   'found': 0},\n",
       "  'results': []},\n",
       " {'meta': {'name': 'openaq-api',\n",
       "   'license': '',\n",
       "   'website': '/',\n",
       "   'page': 1,\n",
       "   'limit': 100,\n",
       "   'found': 1},\n",
       "  'results': [{'code': 'CA',\n",
       "    'name': 'Canada',\n",
       "    'locations': 2362,\n",
       "    'firstUpdated': '2016-03-06 19:00:00+00',\n",
       "    'lastUpdated': '2024-02-21 20:29:25+00',\n",
       "    'parameters': ['co',\n",
       "     'humidity',\n",
       "     'no',\n",
       "     'no2',\n",
       "     'nox',\n",
       "     'o3',\n",
       "     'pm1',\n",
       "     'pm10',\n",
       "     'pm25',\n",
       "     'pressure',\n",
       "     'so2',\n",
       "     'temperature',\n",
       "     'um003',\n",
       "     'um005',\n",
       "     'um010',\n",
       "     'um025',\n",
       "     'um050',\n",
       "     'um100',\n",
       "     'voc'],\n",
       "    'count': 2270858143,\n",
       "    'cities': 18,\n",
       "    'sources': 4}]},\n",
       " {'meta': {'name': 'openaq-api',\n",
       "   'license': '',\n",
       "   'website': '/',\n",
       "   'page': 1,\n",
       "   'limit': 100,\n",
       "   'found': 1},\n",
       "  'results': [{'code': 'SD',\n",
       "    'name': 'Sudan',\n",
       "    'locations': 3,\n",
       "    'firstUpdated': '2020-05-14 14:00:00+00',\n",
       "    'lastUpdated': '2023-05-17 13:00:00+00',\n",
       "    'parameters': ['pm25'],\n",
       "    'count': 54546,\n",
       "    'cities': 2,\n",
       "    'sources': 3}]},\n",
       " {'meta': {'name': 'openaq-api',\n",
       "   'license': '',\n",
       "   'website': '/',\n",
       "   'page': 1,\n",
       "   'limit': 100,\n",
       "   'found': 1},\n",
       "  'results': [{'code': 'BZ',\n",
       "    'name': 'Belize',\n",
       "    'locations': 6,\n",
       "    'firstUpdated': '2021-01-19 23:59:53+00',\n",
       "    'lastUpdated': '2024-02-21 20:29:03+00',\n",
       "    'parameters': ['humidity',\n",
       "     'pm1',\n",
       "     'pm10',\n",
       "     'pm25',\n",
       "     'pressure',\n",
       "     'temperature',\n",
       "     'um003',\n",
       "     'um005',\n",
       "     'um010',\n",
       "     'um025',\n",
       "     'um050',\n",
       "     'um100',\n",
       "     'voc'],\n",
       "    'count': 5568579,\n",
       "    'cities': 1,\n",
       "    'sources': 2}]},\n",
       " {'meta': {'name': 'openaq-api',\n",
       "   'license': '',\n",
       "   'website': '/',\n",
       "   'page': 1,\n",
       "   'limit': 100,\n",
       "   'found': 1},\n",
       "  'results': [{'code': 'US',\n",
       "    'name': 'United States of America',\n",
       "    'locations': 30074,\n",
       "    'firstUpdated': '2016-01-30 01:00:00+00',\n",
       "    'lastUpdated': '2024-02-21 20:29:25+00',\n",
       "    'parameters': ['bc',\n",
       "     'co',\n",
       "     'co2',\n",
       "     'humidity',\n",
       "     'no',\n",
       "     'no2',\n",
       "     'nox',\n",
       "     'o3',\n",
       "     'ozone',\n",
       "     'pm1',\n",
       "     'pm10',\n",
       "     'pm25',\n",
       "     'pm25-old',\n",
       "     'pressure',\n",
       "     'relativehumidity',\n",
       "     'so2',\n",
       "     'temperature',\n",
       "     'um003',\n",
       "     'um005',\n",
       "     'um010',\n",
       "     'um025',\n",
       "     'um050',\n",
       "     'um100',\n",
       "     'voc'],\n",
       "    'count': 44423265006,\n",
       "    'cities': 768,\n",
       "    'sources': 10}]},\n",
       " {'meta': {'name': 'openaq-api',\n",
       "   'license': '',\n",
       "   'website': '/',\n",
       "   'page': 1,\n",
       "   'limit': 100,\n",
       "   'found': 0},\n",
       "  'results': []},\n",
       " {'meta': {'name': 'openaq-api',\n",
       "   'license': '',\n",
       "   'website': '/',\n",
       "   'page': 1,\n",
       "   'limit': 100,\n",
       "   'found': 1},\n",
       "  'results': [{'code': 'KZ',\n",
       "    'name': 'Kazakhstan',\n",
       "    'locations': 22,\n",
       "    'firstUpdated': '2018-07-27 16:00:00+00',\n",
       "    'lastUpdated': '2024-02-21 20:28:55+00',\n",
       "    'parameters': ['humidity',\n",
       "     'pm1',\n",
       "     'pm10',\n",
       "     'pm25',\n",
       "     'pressure',\n",
       "     'temperature',\n",
       "     'um003',\n",
       "     'um005',\n",
       "     'um010',\n",
       "     'um025',\n",
       "     'um050',\n",
       "     'um100'],\n",
       "    'count': 18046864,\n",
       "    'cities': 1,\n",
       "    'sources': 3}]},\n",
       " {'meta': {'name': 'openaq-api',\n",
       "   'license': '',\n",
       "   'website': '/',\n",
       "   'page': 1,\n",
       "   'limit': 100,\n",
       "   'found': 1},\n",
       "  'results': [{'code': 'UZ',\n",
       "    'name': 'Uzbekistan',\n",
       "    'locations': 9,\n",
       "    'firstUpdated': '2018-11-27 22:00:00+00',\n",
       "    'lastUpdated': '2024-02-21 20:29:21+00',\n",
       "    'parameters': ['humidity',\n",
       "     'o3',\n",
       "     'pm1',\n",
       "     'pm10',\n",
       "     'pm25',\n",
       "     'pressure',\n",
       "     'temperature',\n",
       "     'um003',\n",
       "     'um005',\n",
       "     'um010',\n",
       "     'um025',\n",
       "     'um050',\n",
       "     'um100',\n",
       "     'voc'],\n",
       "    'count': 6295731,\n",
       "    'cities': 1,\n",
       "    'sources': 2}]},\n",
       " {'meta': {'name': 'openaq-api',\n",
       "   'license': '',\n",
       "   'website': '/',\n",
       "   'page': 1,\n",
       "   'limit': 100,\n",
       "   'found': 1},\n",
       "  'results': [{'code': 'PG',\n",
       "    'name': 'Papua New Guinea',\n",
       "    'locations': 1,\n",
       "    'firstUpdated': '2021-02-09 00:08:18+00',\n",
       "    'lastUpdated': '2023-07-15 22:26:01+00',\n",
       "    'parameters': ['humidity',\n",
       "     'pm1',\n",
       "     'pm10',\n",
       "     'pm25',\n",
       "     'pressure',\n",
       "     'temperature',\n",
       "     'um003',\n",
       "     'um005',\n",
       "     'um010',\n",
       "     'um025',\n",
       "     'um050',\n",
       "     'um100'],\n",
       "    'count': 646446,\n",
       "    'cities': 0,\n",
       "    'sources': 1}]},\n",
       " {'meta': {'name': 'openaq-api',\n",
       "   'license': '',\n",
       "   'website': '/',\n",
       "   'page': 1,\n",
       "   'limit': 100,\n",
       "   'found': 0},\n",
       "  'results': []},\n",
       " {'meta': {'name': 'openaq-api',\n",
       "   'license': '',\n",
       "   'website': '/',\n",
       "   'page': 1,\n",
       "   'limit': 100,\n",
       "   'found': 1},\n",
       "  'results': [{'code': 'GY',\n",
       "    'name': 'Guyana',\n",
       "    'locations': 1,\n",
       "    'firstUpdated': '2021-03-05 16:48:31+00',\n",
       "    'lastUpdated': '2022-03-11 17:40:57+00',\n",
       "    'parameters': ['pm1', 'pm10', 'pm25', 'um010', 'um025', 'um100'],\n",
       "    'count': 1093662,\n",
       "    'cities': 0,\n",
       "    'sources': 1}]}]"
      ]
     },
     "execution_count": 11,
     "metadata": {},
     "output_type": "execute_result"
    }
   ],
   "source": [
    "task.result()"
   ]
  },
  {
   "cell_type": "markdown",
   "metadata": {},
   "source": [
    "Let's now do the same thing using synchronous programming!"
   ]
  },
  {
   "cell_type": "code",
   "execution_count": 12,
   "metadata": {},
   "outputs": [
    {
     "name": "stdout",
     "output_type": "stream",
     "text": [
      "40.38806915283203\n"
     ]
    }
   ],
   "source": [
    "# Commented code doesn't work: API is down\n",
    "# Next cell use another API \n",
    "import requests\n",
    "start = time.time()\n",
    "for i in range(1,100):\n",
    "    url = f\"https://api.openaq.org/v2/countries/{i}\"\n",
    "    r = requests.get(url)\n",
    "end = time.time()\n",
    "print(end - start) \n",
    "\n"
   ]
  },
  {
   "cell_type": "markdown",
   "metadata": {},
   "source": [
    "Synchronous programming took ten times longer than its asynchronous counterpart."
   ]
  },
  {
   "cell_type": "markdown",
   "metadata": {},
   "source": [
    "## Ressources\n",
    "\n",
    "* [Medium article on asynchronous programming](https://medium.com/velotio-perspectives/an-introduction-to-asynchronous-programming-in-python-af0189a88bbb#:~:text=Asynchronous%20programming%20is%20a%20type,failure%20of%20the%20worker%20thread.)\n",
    "* [asyncio video tutorial](https://www.youtube.com/watch?v=t5Bo1Je9EmE)\n",
    "* [asyncio vs other asyhnchronous programming techniques](https://www.youtube.com/watch?v=bs9tlDFWWdQ)"
   ]
  }
 ],
 "metadata": {
  "kernelspec": {
   "display_name": "Python 3",
   "language": "python",
   "name": "python3"
  },
  "language_info": {
   "codemirror_mode": {
    "name": "ipython",
    "version": 3
   },
   "file_extension": ".py",
   "mimetype": "text/x-python",
   "name": "python",
   "nbconvert_exporter": "python",
   "pygments_lexer": "ipython3",
   "version": "3.10.9"
  }
 },
 "nbformat": 4,
 "nbformat_minor": 4
}
